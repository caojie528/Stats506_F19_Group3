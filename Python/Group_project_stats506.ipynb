{
 "cells": [
  {
   "cell_type": "markdown",
   "metadata": {},
   "source": [
    "# Stats 506, Fall 2019\n",
    "## Group Project - Group 3\n",
    "\n",
    "**Author: Wenjing Li**\n",
    "\n",
    "**Last Update Date: Dec.11, 2019**\n",
    "\n",
    "\n",
    "\n",
    " This script analyzes the question:\n",
    " \n",
    "**\"Do people diagnosed with diabetes consume less calories in US?\"**\n",
    "\n",
    "NHANES 2015-2016 data are used in this problem.\n"
   ]
  },
  {
   "cell_type": "markdown",
   "metadata": {},
   "source": [
    "## Import packages"
   ]
  },
  {
   "cell_type": "code",
   "execution_count": 18,
   "metadata": {},
   "outputs": [],
   "source": [
    "import pandas as pd\n",
    "from dfply import *\n",
    "from scipy import stats\n",
    "import statsmodels.api as sm\n",
    "import statsmodels.formula.api as smf\n",
    "import matplotlib.pyplot as plt\n",
    "import pylab\n",
    "import scipy.stats as stats\n",
    "from patsy import dmatrices\n",
    "from statsmodels.stats.outliers_influence import variance_inflation_factor"
   ]
  },
  {
   "cell_type": "markdown",
   "metadata": {},
   "source": [
    "## Read data\n",
    "List of XPT files from NHANES 2015-2016 that we will use in this analysis.  \n",
    "\n",
    "DEMO_I - Demographics  \n",
    "\n",
    "DR1TOT_I - Dietary, Day 1  \n",
    "\n",
    "DR2TOT_I - Dietary, Day 2  \n",
    "\n",
    "BMX_I - Body Measusrement  \n",
    "\n",
    "DIQ_I - Diabetes\n",
    "\n",
    "PAQ_I - Physical Activity"
   ]
  },
  {
   "cell_type": "code",
   "execution_count": 19,
   "metadata": {},
   "outputs": [],
   "source": [
    "demo = pd.read_sas('../Data/DEMO_I.XPT')\n",
    "dr1tot = pd.read_sas('../Data/DR1TOT_I.XPT')\n",
    "dr2tot = pd.read_sas('../Data/DR2TOT_I.XPT')\n",
    "bmx = pd.read_sas('../Data/BMX_I.XPT')\n",
    "diq = pd.read_sas('../Data/DIQ_I.XPT')\n",
    "pad = pd.read_sas('../Data/PAQ_I.XPT')"
   ]
  },
  {
   "cell_type": "markdown",
   "metadata": {},
   "source": [
    "## Merge data"
   ]
  },
  {
   "cell_type": "markdown",
   "metadata": {},
   "source": [
    "### Select columns needed"
   ]
  },
  {
   "cell_type": "code",
   "execution_count": 20,
   "metadata": {},
   "outputs": [],
   "source": [
    "demo_new = (demo >> \n",
    "            select(X.SEQN, X.RIDAGEYR, X.RIAGENDR, X.RIDEXPRG))\n",
    "\n",
    "dr1tot_new = (dr1tot >>\n",
    "              mutate(dr1 = X.DR1TKCAL) >>\n",
    "              select(X.SEQN, X.dr1))\n",
    "dr2tot_new = (dr2tot >>\n",
    "              mutate(dr2 = X.DR2TKCAL) >>\n",
    "             select(X.SEQN, X.dr2))\n",
    "dietary = pd.merge(dr1tot_new, dr2tot_new, on='SEQN', how='outer')\n",
    "bmx_new = (bmx >>\n",
    "          select(X.SEQN, X.BMXBMI))\n",
    "diq_new = (diq >>\n",
    "          select(X.SEQN, X.DIQ010))\n",
    "pad_new = (pad >>\n",
    "          select(X.SEQN, X.PAD615, X.PAD630, X.PAD680))\n",
    "questionnaire = pd.merge(diq_new, pad_new, on='SEQN', how='outer')\n",
    "merge_2 = pd.merge(bmx_new, questionnaire, on='SEQN', how='outer')\n",
    "merge_3 = pd.merge(merge_2, demo_new, on='SEQN', how='outer')"
   ]
  },
  {
   "cell_type": "markdown",
   "metadata": {},
   "source": [
    "### Inclusion/Exclusion"
   ]
  },
  {
   "cell_type": "markdown",
   "metadata": {},
   "source": [
    "Include data with confirmed diabetes diagnosis"
   ]
  },
  {
   "cell_type": "code",
   "execution_count": 21,
   "metadata": {},
   "outputs": [],
   "source": [
    "# Better to specify the values we want to include, instead of exclusion\n",
    "diabetes_in = [1, 2, 3]\n",
    "merge_3 = merge_3[merge_3.DIQ010.isin(diabetes_in)]"
   ]
  },
  {
   "cell_type": "markdown",
   "metadata": {},
   "source": [
    "Exclude pregnant participants"
   ]
  },
  {
   "cell_type": "code",
   "execution_count": 22,
   "metadata": {},
   "outputs": [],
   "source": [
    "merge_3 = merge_3[merge_3.RIDEXPRG != 1 ]"
   ]
  },
  {
   "cell_type": "markdown",
   "metadata": {},
   "source": [
    "Include participants aged 12-79 years old\n",
    "\n",
    "NHANES top-coded age at 80, which means participants aged 80 or older are all coded as 80. \n",
    "\n",
    "Hence, we decide to only look at adolescents greater than 12 years old) and adults less than 80 years old. "
   ]
  },
  {
   "cell_type": "code",
   "execution_count": 23,
   "metadata": {},
   "outputs": [],
   "source": [
    "merge_3 = merge_3[merge_3.RIDAGEYR < 80]\n",
    "merge_3 = merge_3[merge_3.RIDAGEYR >= 12]"
   ]
  },
  {
   "cell_type": "code",
   "execution_count": 24,
   "metadata": {},
   "outputs": [
    {
     "data": {
      "text/plain": [
       "(6586, 9)"
      ]
     },
     "execution_count": 24,
     "metadata": {},
     "output_type": "execute_result"
    }
   ],
   "source": [
    "merge_3.shape"
   ]
  },
  {
   "cell_type": "markdown",
   "metadata": {},
   "source": [
    "### Variable recoding/creation"
   ]
  },
  {
   "cell_type": "markdown",
   "metadata": {},
   "source": [
    "Binary **diabetes** variable:\n",
    "\n",
    "1 - diabetes or borderline\n",
    "\n",
    "0 - non-diabetes"
   ]
  },
  {
   "cell_type": "code",
   "execution_count": 25,
   "metadata": {},
   "outputs": [],
   "source": [
    "diabete = []\n",
    "for i in merge_3.DIQ010:\n",
    "    if i == 2:\n",
    "        diabete.append(0)\n",
    "    else:\n",
    "        diabete.append(1)\n",
    "merge_3['diabetes'] = diabete"
   ]
  },
  {
   "cell_type": "markdown",
   "metadata": {},
   "source": [
    "Binary **male** variable:\n",
    "\n",
    "1 - male\n",
    "\n",
    "0 - female"
   ]
  },
  {
   "cell_type": "code",
   "execution_count": 26,
   "metadata": {},
   "outputs": [],
   "source": [
    "male = []\n",
    "for i in merge_3.RIAGENDR:\n",
    "    if i == 1:\n",
    "        male.append(1)\n",
    "    else:\n",
    "        male.append(0)\n",
    "merge_3['male'] = male"
   ]
  },
  {
   "cell_type": "markdown",
   "metadata": {},
   "source": [
    "Dietary intervew **day** variable: \n",
    "\n",
    "1 - interview day 1  \n",
    "\n",
    "2 - interview day 2"
   ]
  },
  {
   "cell_type": "code",
   "execution_count": 27,
   "metadata": {},
   "outputs": [],
   "source": [
    "merge = pd.merge(merge_3, dietary, on='SEQN', how='left')\n",
    "\n",
    "# pivot the data into \"long\" format\n",
    "merge = merge.melt(id_vars=merge.iloc[:,0:11], var_name='day', value_name='y')\n",
    "\n",
    "# create a variable representing dietary interview day (1/2)\n",
    "days = []\n",
    "for i in merge.day:\n",
    "    if i == 'dr1':\n",
    "        days.append(1)\n",
    "    else:\n",
    "        days.append(2)\n",
    "merge['day'] = days"
   ]
  },
  {
   "cell_type": "markdown",
   "metadata": {},
   "source": [
    "### Prepare final working datasets"
   ]
  },
  {
   "cell_type": "code",
   "execution_count": 28,
   "metadata": {},
   "outputs": [],
   "source": [
    "# remove rows with missing value\n",
    "final = merge.drop([\"RIDEXPRG\", \"RIAGENDR\", \"PAD615\", \"PAD630\", \"DIQ010\"], axis=1)\n",
    "# remove rows with any missing value\n",
    "final = final.dropna()\n",
    "final_day1 = final[final[\"day\"] == 1]\n",
    "final_day2 = final[final[\"day\"] == 2]"
   ]
  },
  {
   "cell_type": "code",
   "execution_count": 29,
   "metadata": {},
   "outputs": [
    {
     "data": {
      "text/plain": [
       "(10528, 8)"
      ]
     },
     "execution_count": 29,
     "metadata": {},
     "output_type": "execute_result"
    }
   ],
   "source": [
    "final.shape"
   ]
  },
  {
   "cell_type": "code",
   "execution_count": 30,
   "metadata": {},
   "outputs": [
    {
     "data": {
      "text/plain": [
       "(5752, 8)"
      ]
     },
     "execution_count": 30,
     "metadata": {},
     "output_type": "execute_result"
    }
   ],
   "source": [
    "final_day1.shape"
   ]
  },
  {
   "cell_type": "code",
   "execution_count": 31,
   "metadata": {},
   "outputs": [
    {
     "data": {
      "text/plain": [
       "(4776, 8)"
      ]
     },
     "execution_count": 31,
     "metadata": {},
     "output_type": "execute_result"
    }
   ],
   "source": [
    "final_day2.shape"
   ]
  },
  {
   "cell_type": "markdown",
   "metadata": {},
   "source": [
    "### Check normality of response variable"
   ]
  },
  {
   "cell_type": "markdown",
   "metadata": {},
   "source": [
    "Day 1 Total Energy (kcal)"
   ]
  },
  {
   "cell_type": "code",
   "execution_count": 15,
   "metadata": {},
   "outputs": [
    {
     "data": {
      "image/png": "[encoded data removed]",
      "text/plain": [
       "<Figure size 432x288 with 1 Axes>"
      ]
     },
     "metadata": {
      "needs_background": "light"
     },
     "output_type": "display_data"
    }
   ],
   "source": [
    "plt.hist(final_day1[\"y\"], bins=100, density=1)\n",
    "plt.title('Density Distribution of Total Energy (day 1)')\n",
    "plt.xlabel('Energy (kcal)')\n",
    "plt.ylabel('Frequency')\n",
    "plt.savefig('./Figs/hist_day1.png')\n",
    "plt.show()"
   ]
  },
  {
   "cell_type": "markdown",
   "metadata": {},
   "source": [
    "Day 2 Total Energy (kcal)"
   ]
  },
  {
   "cell_type": "code",
   "execution_count": 24,
   "metadata": {},
   "outputs": [
    {
     "data": {
      "image/png": "[encoded data removed]",
      "text/plain": [
       "<Figure size 432x288 with 1 Axes>"
      ]
     },
     "metadata": {
      "needs_background": "light"
     },
     "output_type": "display_data"
    }
   ],
   "source": [
    "plt.hist(final_day2[\"y\"], bins=100)\n",
    "plt.title('Density Distribution of Total Energy (day 2)')\n",
    "plt.xlabel('Energy (kcal)')\n",
    "plt.ylabel('Frequency')\n",
    "plt.savefig('./Figs/hist_day2.png')\n",
    "plt.show()"
   ]
  },
  {
   "cell_type": "markdown",
   "metadata": {},
   "source": [
    "We can also use QQ-Plot to check the normality of the response variable."
   ]
  },
  {
   "cell_type": "code",
   "execution_count": 41,
   "metadata": {
    "scrolled": true
   },
   "outputs": [
    {
     "data": {
      "image/png": "[encoded data removed]",
      "text/plain": [
       "<Figure size 432x288 with 2 Axes>"
      ]
     },
     "metadata": {
      "needs_background": "light"
     },
     "output_type": "display_data"
    }
   ],
   "source": [
    "plt.subplot(211)\n",
    "# day 1 total energy\n",
    "stats.probplot(final_day1[\"y\"], dist=\"norm\", plot=pylab)\n",
    "plt.xlabel('')\n",
    "plt.ylabel('Sample quantiles')\n",
    "plt.title('Normal Q-Q Plot')\n",
    "plt.tick_params(axis='x', bottom=False, labelbottom=False)\n",
    "plt.subplot(212)\n",
    "# day 2 total energy\n",
    "stats.probplot(final_day2[\"y\"], dist=\"norm\", plot=pylab)\n",
    "plt.ylabel('Sample quantiles')\n",
    "plt.title('')\n",
    "plt.savefig('./Figs/qq_plot.png')\n",
    "pylab.show()"
   ]
  },
  {
   "cell_type": "markdown",
   "metadata": {},
   "source": [
    "**Conclusion**: Approximately normal - no need to transform the response variable."
   ]
  },
  {
   "cell_type": "markdown",
   "metadata": {},
   "source": [
    "### Check collinearity (use day 1 only)"
   ]
  },
  {
   "cell_type": "markdown",
   "metadata": {},
   "source": [
    "Correlation matrix of predictors"
   ]
  },
  {
   "cell_type": "code",
   "execution_count": 32,
   "metadata": {},
   "outputs": [
    {
     "data": {
      "text/html": [
       "<div>\n",
       "<style scoped>\n",
       "    .dataframe tbody tr th:only-of-type {\n",
       "        vertical-align: middle;\n",
       "    }\n",
       "\n",
       "    .dataframe tbody tr th {\n",
       "        vertical-align: top;\n",
       "    }\n",
       "\n",
       "    .dataframe thead th {\n",
       "        text-align: right;\n",
       "    }\n",
       "</style>\n",
       "<table border=\"1\" class=\"dataframe\">\n",
       "  <thead>\n",
       "    <tr style=\"text-align: right;\">\n",
       "      <th></th>\n",
       "      <th>BMXBMI</th>\n",
       "      <th>PAD680</th>\n",
       "      <th>RIDAGEYR</th>\n",
       "      <th>diabetes</th>\n",
       "      <th>male</th>\n",
       "    </tr>\n",
       "  </thead>\n",
       "  <tbody>\n",
       "    <tr>\n",
       "      <td>BMXBMI</td>\n",
       "      <td>1.000000</td>\n",
       "      <td>-0.010791</td>\n",
       "      <td>0.242742</td>\n",
       "      <td>0.222468</td>\n",
       "      <td>-0.088875</td>\n",
       "    </tr>\n",
       "    <tr>\n",
       "      <td>PAD680</td>\n",
       "      <td>-0.010791</td>\n",
       "      <td>1.000000</td>\n",
       "      <td>-0.034440</td>\n",
       "      <td>-0.009275</td>\n",
       "      <td>-0.017472</td>\n",
       "    </tr>\n",
       "    <tr>\n",
       "      <td>RIDAGEYR</td>\n",
       "      <td>0.242742</td>\n",
       "      <td>-0.034440</td>\n",
       "      <td>1.000000</td>\n",
       "      <td>0.341760</td>\n",
       "      <td>-0.009280</td>\n",
       "    </tr>\n",
       "    <tr>\n",
       "      <td>diabetes</td>\n",
       "      <td>0.222468</td>\n",
       "      <td>-0.009275</td>\n",
       "      <td>0.341760</td>\n",
       "      <td>1.000000</td>\n",
       "      <td>0.025974</td>\n",
       "    </tr>\n",
       "    <tr>\n",
       "      <td>male</td>\n",
       "      <td>-0.088875</td>\n",
       "      <td>-0.017472</td>\n",
       "      <td>-0.009280</td>\n",
       "      <td>0.025974</td>\n",
       "      <td>1.000000</td>\n",
       "    </tr>\n",
       "  </tbody>\n",
       "</table>\n",
       "</div>"
      ],
      "text/plain": [
       "            BMXBMI    PAD680  RIDAGEYR  diabetes      male\n",
       "BMXBMI    1.000000 -0.010791  0.242742  0.222468 -0.088875\n",
       "PAD680   -0.010791  1.000000 -0.034440 -0.009275 -0.017472\n",
       "RIDAGEYR  0.242742 -0.034440  1.000000  0.341760 -0.009280\n",
       "diabetes  0.222468 -0.009275  0.341760  1.000000  0.025974\n",
       "male     -0.088875 -0.017472 -0.009280  0.025974  1.000000"
      ]
     },
     "execution_count": 32,
     "metadata": {},
     "output_type": "execute_result"
    }
   ],
   "source": [
    "predictors = final_day1[final_day1.columns[1:6]]\n",
    "predictors.corr()"
   ]
  },
  {
   "cell_type": "markdown",
   "metadata": {},
   "source": [
    "OLS model for day 1"
   ]
  },
  {
   "cell_type": "code",
   "execution_count": 33,
   "metadata": {},
   "outputs": [
    {
     "name": "stdout",
     "output_type": "stream",
     "text": [
      "                            OLS Regression Results                            \n",
      "==============================================================================\n",
      "Dep. Variable:                      y   R-squared:                       0.095\n",
      "Model:                            OLS   Adj. R-squared:                  0.094\n",
      "Method:                 Least Squares   F-statistic:                     120.7\n",
      "Date:                Thu, 12 Dec 2019   Prob (F-statistic):          8.08e-122\n",
      "Time:                        00:07:27   Log-Likelihood:                -47383.\n",
      "No. Observations:                5752   AIC:                         9.478e+04\n",
      "Df Residuals:                    5746   BIC:                         9.482e+04\n",
      "Df Model:                           5                                         \n",
      "Covariance Type:            nonrobust                                         \n",
      "==============================================================================\n",
      "                 coef    std err          t      P>|t|      [0.025      0.975]\n",
      "------------------------------------------------------------------------------\n",
      "const       1845.4133     55.121     33.479      0.000    1737.355    1953.472\n",
      "BMXBMI         5.4510      1.727      3.156      0.002       2.065       8.837\n",
      "PAD680        -0.0405      0.014     -2.876      0.004      -0.068      -0.013\n",
      "RIDAGEYR      -3.8870      0.667     -5.827      0.000      -5.195      -2.579\n",
      "diabetes    -116.0930     37.896     -3.063      0.002    -190.383     -41.803\n",
      "male         565.2939     24.269     23.293      0.000     517.718     612.870\n",
      "==============================================================================\n",
      "Omnibus:                     1368.319   Durbin-Watson:                   2.034\n",
      "Prob(Omnibus):                  0.000   Jarque-Bera (JB):             4401.805\n",
      "Skew:                           1.199   Prob(JB):                         0.00\n",
      "Kurtosis:                       6.552   Cond. No.                     4.59e+03\n",
      "==============================================================================\n",
      "\n",
      "Warnings:\n",
      "[1] Standard Errors assume that the covariance matrix of the errors is correctly specified.\n",
      "[2] The condition number is large, 4.59e+03. This might indicate that there are\n",
      "strong multicollinearity or other numerical problems.\n"
     ]
    },
    {
     "name": "stderr",
     "output_type": "stream",
     "text": [
      "C:\\Users\\wenji\\AppData\\Local\\Continuum\\anaconda3\\lib\\site-packages\\numpy\\core\\fromnumeric.py:2389: FutureWarning: Method .ptp is deprecated and will be removed in a future version. Use numpy.ptp instead.\n",
      "  return ptp(axis=axis, out=out, **kwargs)\n"
     ]
    }
   ],
   "source": [
    "x = sm.add_constant(final_day1[final_day1.columns[1:6]])\n",
    "model = sm.OLS(final_day1['y'], x)\n",
    "results = model.fit()\n",
    "print(results.summary())"
   ]
  },
  {
   "cell_type": "markdown",
   "metadata": {},
   "source": [
    "Variance Infation Factor (VIF)"
   ]
  },
  {
   "cell_type": "code",
   "execution_count": 34,
   "metadata": {
    "scrolled": true
   },
   "outputs": [
    {
     "data": {
      "text/plain": [
       "[1.0980699620399632,\n",
       " 1.00153717004665,\n",
       " 1.172234696954212,\n",
       " 1.1618062474485054,\n",
       " 1.010543313776021]"
      ]
     },
     "execution_count": 34,
     "metadata": {},
     "output_type": "execute_result"
    }
   ],
   "source": [
    "# Break into left and right hand side; y and X\n",
    "y, X = dmatrices(\"y ~ BMXBMI + PAD680 + RIDAGEYR + diabetes + male\", data=final_day1, return_type=\"dataframe\")\n",
    "\n",
    "# For each Xi, calculate VIF\n",
    "vif = [variance_inflation_factor(X.values, i) for i in range(X.shape[1])]\n",
    "vif[1:] # No need to look at VIF for intercept"
   ]
  },
  {
   "cell_type": "markdown",
   "metadata": {},
   "source": [
    "**Conclusion**: No collinearity issue."
   ]
  },
  {
   "cell_type": "markdown",
   "metadata": {},
   "source": [
    "### Linear mixed model for both days"
   ]
  },
  {
   "cell_type": "code",
   "execution_count": 35,
   "metadata": {},
   "outputs": [
    {
     "name": "stdout",
     "output_type": "stream",
     "text": [
      "           Mixed Linear Model Regression Results\n",
      "============================================================\n",
      "Model:             MixedLM  Dependent Variable:  y          \n",
      "No. Observations:  10528    Method:              REML       \n",
      "No. Groups:        5752     Scale:               510040.7789\n",
      "Min. group size:   1        Likelihood:          -86154.8654\n",
      "Max. group size:   2        Converged:           Yes        \n",
      "Mean group size:   1.8                                      \n",
      "------------------------------------------------------------\n",
      "            Coef.    Std.Err.   z    P>|z|  [0.025   0.975] \n",
      "------------------------------------------------------------\n",
      "Intercept   1808.464   45.807 39.480 0.000 1718.684 1898.244\n",
      "BMXBMI         2.314    1.430  1.618 0.106   -0.489    5.118\n",
      "PAD680        -0.030    0.012 -2.563 0.010   -0.054   -0.007\n",
      "RIDAGEYR      -2.500    0.553 -4.517 0.000   -3.584   -1.415\n",
      "diabetes    -101.157   31.384 -3.223 0.001 -162.669  -39.646\n",
      "male         538.477   20.178 26.686 0.000  498.928  578.025\n",
      "Group Var 292948.651   22.660                               \n",
      "============================================================\n",
      "\n"
     ]
    }
   ],
   "source": [
    "# LMM model\n",
    "mixed = smf.mixedlm(\"y ~ BMXBMI + PAD680 + RIDAGEYR + diabetes + male\", final, groups = final[\"SEQN\"])\n",
    "mixed_fit = mixed.fit()\n",
    "#print the summary\n",
    "print(mixed_fit.summary())"
   ]
  },
  {
   "cell_type": "markdown",
   "metadata": {},
   "source": [
    "Prediction at population mean, by diabetes and gender"
   ]
  },
  {
   "cell_type": "code",
   "execution_count": 36,
   "metadata": {},
   "outputs": [],
   "source": [
    "# prediction for person who has diabetes\n",
    "diabetes = 1\n",
    "## for man\n",
    "male = 1\n",
    "pre_1 = 1808.464+2.314*mean(final['BMXBMI'])-0.030*mean(final['PAD680'])-2.500*mean(final['RIDAGEYR'])- \\\n",
    "        101.157*diabetes+538.477*male\n",
    "## for woman\n",
    "male = 0\n",
    "pre_2 = 1808.464+2.314*mean(final['BMXBMI'])-0.030*mean(final['PAD680'])-2.500*mean(final['RIDAGEYR'])- \\\n",
    "        101.157*diabetes+538.477*male\n",
    "\n",
    "# prediction for person who doesn't have diabetes\n",
    "diabetes = 0\n",
    "## for man\n",
    "male = 1\n",
    "pre_3 = 1808.464+2.314*mean(final['BMXBMI'])-0.030*mean(final['PAD680'])-2.500*mean(final['RIDAGEYR'])- \\\n",
    "        101.157*diabetes+538.477*male\n",
    "## for woman\n",
    "male = 0\n",
    "pre_4 = 1808.464+2.314*mean(final['BMXBMI'])-0.030*mean(final['PAD680'])-2.500*mean(final['RIDAGEYR'])- \\\n",
    "        101.157*diabetes+538.477*male"
   ]
  },
  {
   "cell_type": "code",
   "execution_count": 37,
   "metadata": {},
   "outputs": [
    {
     "name": "stdout",
     "output_type": "stream",
     "text": [
      "In the population mean, the estimated calorie intake for men diagnosed with diabetes is : 2194.44 \n",
      "In the population mean, the estimated calorie intake for women diagnosed with diabetes is : 1655.97 \n",
      "In the population mean, the estimated calorie intake for men without diabetes is : 2295.6 \n",
      "In the population mean, the estimated calorie intake for women without diabetes is : 1757.12\n"
     ]
    }
   ],
   "source": [
    "print('In the population mean, the estimated calorie intake for men diagnosed with diabetes is :', round(pre_1, 2),'\\n' \\\n",
    "      'In the population mean, the estimated calorie intake for women diagnosed with diabetes is :', round(pre_2, 2),'\\n' \\\n",
    "      'In the population mean, the estimated calorie intake for men without diabetes is :', round(pre_3, 2),'\\n' \\\n",
    "      'In the population mean, the estimated calorie intake for women without diabetes is :', round(pre_4, 2))"
   ]
  }
 ],
 "metadata": {
  "kernelspec": {
   "display_name": "Python 3",
   "language": "python",
   "name": "python3"
  },
  "language_info": {
   "codemirror_mode": {
    "name": "ipython",
    "version": 3
   },
   "file_extension": ".py",
   "mimetype": "text/x-python",
   "name": "python",
   "nbconvert_exporter": "python",
   "pygments_lexer": "ipython3",
   "version": "3.6.5"
  }
 },
 "nbformat": 4,
 "nbformat_minor": 2
}
