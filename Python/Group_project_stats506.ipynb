{
 "cells": [
  {
   "cell_type": "code",
   "execution_count": 1,
   "metadata": {},
   "outputs": [
    {
     "name": "stderr",
     "output_type": "stream",
     "text": [
      "C:\\Users\\wenji\\AppData\\Local\\Continuum\\anaconda3\\lib\\site-packages\\statsmodels\\compat\\pandas.py:23: FutureWarning: The Panel class is removed from pandas. Accessing it from the top-level namespace will also be removed in the next version\n",
      "  data_klasses = (pandas.Series, pandas.DataFrame, pandas.Panel)\n"
     ]
    }
   ],
   "source": [
    "# Stats 506, Fall 2019\n",
    "# Group Project - Group 3\n",
    "#\n",
    "# This script analyzes the question:\n",
    "# \"Do people diagnosed with diabetes consume less calories in US?\"\n",
    "#\n",
    "# NHANES 2015-2016 data are used in this problem.\n",
    "#\n",
    "#\n",
    "# import packages\n",
    "import pandas as pd\n",
    "from dfply import *\n",
    "from scipy import stats\n",
    "import statsmodels.api as sm\n",
    "import statsmodels.formula.api as smf\n",
    "import matplotlib.pyplot as plt\n",
    "from patsy import dmatrices\n",
    "from statsmodels.stats.outliers_influence import variance_inflation_factor"
   ]
  },
  {
   "cell_type": "code",
   "execution_count": 66,
   "metadata": {},
   "outputs": [],
   "source": [
    "# read data\n",
    "demo = pd.read_sas('DEMO_I.XPT')\n",
    "dr1tot = pd.read_sas('DR1TOT_I.XPT')\n",
    "dr2tot = pd.read_sas('DR2TOT_I.XPT')\n",
    "bmx = pd.read_sas('BMX_I.XPT')\n",
    "diq = pd.read_sas('DIQ_I.XPT')\n",
    "pad = pd.read_sas('PAQ_I.XPT')"
   ]
  },
  {
   "cell_type": "code",
   "execution_count": 90,
   "metadata": {},
   "outputs": [],
   "source": [
    "# select columns and merge into a single dataset\n",
    "demo_new = (demo >> \n",
    "            select(X.SEQN, X.RIDAGEYR, X.RIAGENDR, X.RIDEXPRG))\n",
    "dr1tot_new = (dr1tot >>\n",
    "              mutate(dr1 = X.DR1TKCAL) >>\n",
    "              select(X.SEQN, X.dr1))\n",
    "dr2tot_new = (dr2tot >>\n",
    "              mutate(dr2 = X.DR2TKCAL) >>\n",
    "             select(X.SEQN, X.dr2))\n",
    "dietary = pd.merge(dr1tot_new, dr2tot_new, on='SEQN')\n",
    "bmx_new = (bmx >>\n",
    "          select(X.SEQN, X.BMXBMI))\n",
    "diq_new = (diq >>\n",
    "          select(X.SEQN, X.DIQ010))\n",
    "pad_new = (pad >>\n",
    "          select(X.SEQN, X.PAD615, X.PAD630, X.PAD680))\n",
    "questionnaire = pd.merge(diq_new, pad_new, on='SEQN')\n",
    "merge_2 = pd.merge(bmx_new, questionnaire, on='SEQN')\n",
    "merge_3 = pd.merge(merge_2, demo_new, on='SEQN')\n",
    "\n",
    "# exclude data without diabetes diagnosis\n",
    "merge_3 = merge_3[merge_3.DIQ010 != 7 ]\n",
    "merge_3 = merge_3[merge_3.DIQ010 != 9 ]\n",
    "\n",
    "# exclude pregnant participants\n",
    "merge_3 = merge_3[merge_3.RIDEXPRG != 1 ]\n",
    "\n",
    "# create a new variable representing diabetes\n",
    "  # 1 - diabetes or borderline\n",
    "  # 0 - non-diabetes\n",
    "diabete = []\n",
    "for i in merge_3.DIQ010:\n",
    "    if i == 2:\n",
    "        diabete.append(0)\n",
    "    else:\n",
    "        diabete.append(1)\n",
    "merge_3['diabetes'] = diabete\n",
    "\n",
    "# create a new variable representing male\n",
    "  # 1 - male\n",
    "  # 0 - female\n",
    "gender = []\n",
    "for i in merge_3.RIAGENDR:\n",
    "    if i == 1:\n",
    "        gender.append(1)\n",
    "    else:\n",
    "        gender.append(0)\n",
    "merge_3['gender'] = gender\n",
    "merge = pd.merge(merge_3, dietary, on='SEQN')\n",
    "\n",
    "# pivot the data into \"long\" format\n",
    "merge = merge.melt(id_vars=merge.iloc[:,0:11], var_name='day', value_name='y')\n",
    "\n",
    "# create a variable representing dietary interview day (1/2)\n",
    "days = []\n",
    "for i in merge.day:\n",
    "    if i == 'dr1':\n",
    "        days.append(1)\n",
    "    else:\n",
    "        days.append(2)\n",
    "merge['day'] = days\n",
    "\n",
    "# remove rows with missing value\n",
    "merge = merge.dropna()\n",
    "\n",
    "# Note that `age` is top-coded at 80, \n",
    "## which means participants aged 80 or older were allrecorded as age 80. \n",
    "## To avoid inaccurate data, we decided to set an age bound from 12 to 79.\n",
    "merge = merge[merge[\"RIDAGEYR\"] < 80]\n",
    "merge = merge[merge[\"RIDAGEYR\"] > 12]\n",
    "\n",
    "# remove rows with missing value\n",
    "final = merge.drop([\"RIDEXPRG\", \"PAD615\", \"PAD630\", \"DIQ010\", \"RIAGENDR\"], axis=1)\n",
    "final_day1 = final[final[\"day\"] == 1]\n",
    "final_day2 = final[final[\"day\"] == 2]"
   ]
  },
  {
   "cell_type": "code",
   "execution_count": 120,
   "metadata": {},
   "outputs": [
    {
     "data": {
      "image/png": "[encoded data removed]",
      "text/plain": [
       "<Figure size 432x288 with 1 Axes>"
      ]
     },
     "metadata": {
      "needs_background": "light"
     },
     "output_type": "display_data"
    }
   ],
   "source": [
    "# check linearity for final_day1\n",
    "plt.hist(final_day1[\"y\"])\n",
    "plt.savefig('Group_project_stats506_3_0.png')\n",
    "plt.show()"
   ]
  },
  {
   "cell_type": "code",
   "execution_count": 93,
   "metadata": {},
   "outputs": [
    {
     "data": {
      "image/png": "[encoded data removed]",
      "text/plain": [
       "<Figure size 432x288 with 1 Axes>"
      ]
     },
     "metadata": {
      "needs_background": "light"
     },
     "output_type": "display_data"
    }
   ],
   "source": [
    "# check linearity for final_day1\n",
    "plt.hist(final_day2[\"y\"])\n",
    "plt.savefig('Group_project_stats506_4_0.png')\n",
    "plt.show()"
   ]
  },
  {
   "cell_type": "code",
   "execution_count": 94,
   "metadata": {},
   "outputs": [
    {
     "name": "stdout",
     "output_type": "stream",
     "text": [
      "p = 0.000159355\n"
     ]
    }
   ],
   "source": [
    "k2, p = stats.normaltest(final_day1['y'])\n",
    "print(\"p = {:g}\".format(p))"
   ]
  },
  {
   "cell_type": "code",
   "execution_count": 95,
   "metadata": {},
   "outputs": [
    {
     "name": "stdout",
     "output_type": "stream",
     "text": [
      "p = 5.06948e-06\n"
     ]
    }
   ],
   "source": [
    "k2, p = stats.normaltest(final_day2['y'])\n",
    "print(\"p = {:g}\".format(p))"
   ]
  },
  {
   "cell_type": "markdown",
   "metadata": {},
   "source": [
    "No non-linearity found."
   ]
  },
  {
   "cell_type": "code",
   "execution_count": 111,
   "metadata": {},
   "outputs": [
    {
     "name": "stdout",
     "output_type": "stream",
     "text": [
      "                            OLS Regression Results                            \n",
      "==============================================================================\n",
      "Dep. Variable:                      y   R-squared:                       0.004\n",
      "Model:                            OLS   Adj. R-squared:                 -0.022\n",
      "Method:                 Least Squares   F-statistic:                    0.1695\n",
      "Date:                Tue, 03 Dec 2019   Prob (F-statistic):              0.954\n",
      "Time:                        23:37:40   Log-Likelihood:                -1260.1\n",
      "No. Observations:                 155   AIC:                             2530.\n",
      "Df Residuals:                     150   BIC:                             2545.\n",
      "Df Model:                           4                                         \n",
      "Covariance Type:            nonrobust                                         \n",
      "==============================================================================\n",
      "                 coef    std err          t      P>|t|      [0.025      0.975]\n",
      "------------------------------------------------------------------------------\n",
      "const       2047.3486    420.058      4.874      0.000    1217.353    2877.344\n",
      "BMXBMI        -3.5250      7.775     -0.453      0.651     -18.887      11.837\n",
      "PAD680        -0.0501      0.417     -0.120      0.905      -0.874       0.774\n",
      "RIDAGEYR       0.6708     10.121      0.066      0.947     -19.327      20.668\n",
      "diabetes     265.4636    354.898      0.748      0.456    -435.781     966.708\n",
      "==============================================================================\n",
      "Omnibus:                       17.668   Durbin-Watson:                   2.023\n",
      "Prob(Omnibus):                  0.000   Jarque-Bera (JB):               20.567\n",
      "Skew:                           0.767   Prob(JB):                     3.42e-05\n",
      "Kurtosis:                       3.912   Cond. No.                     2.20e+03\n",
      "==============================================================================\n",
      "\n",
      "Warnings:\n",
      "[1] Standard Errors assume that the covariance matrix of the errors is correctly specified.\n",
      "[2] The condition number is large, 2.2e+03. This might indicate that there are\n",
      "strong multicollinearity or other numerical problems.\n"
     ]
    }
   ],
   "source": [
    "# OLS model for day 1\n",
    "x = sm.add_constant(final_day1[final_day1.columns[1:5]])\n",
    "model = sm.OLS(final_day1['y'], x)\n",
    "results = model.fit()\n",
    "print(results.summary())"
   ]
  },
  {
   "cell_type": "code",
   "execution_count": 118,
   "metadata": {},
   "outputs": [
    {
     "data": {
      "text/plain": [
       "[39.24402833965102,\n",
       " 1.032095249588678,\n",
       " 1.0253815257501617,\n",
       " 1.0158300005008685,\n",
       " 1.0424003078079123]"
      ]
     },
     "execution_count": 118,
     "metadata": {},
     "output_type": "execute_result"
    }
   ],
   "source": [
    "# Break into left and right hand side; y and X\n",
    "y, X = dmatrices(\"y ~ BMXBMI + PAD680 + RIDAGEYR + diabetes\", data=final_day1, return_type=\"dataframe\")\n",
    "\n",
    "# For each Xi, calculate VIF\n",
    "vif = [variance_inflation_factor(X.values, i) for i in range(X.shape[1])]\n",
    "vif"
   ]
  },
  {
   "cell_type": "markdown",
   "metadata": {},
   "source": [
    "No collinearity found."
   ]
  },
  {
   "cell_type": "code",
   "execution_count": 119,
   "metadata": {},
   "outputs": [
    {
     "name": "stdout",
     "output_type": "stream",
     "text": [
      "           Mixed Linear Model Regression Results\n",
      "============================================================\n",
      "Model:             MixedLM  Dependent Variable:  y          \n",
      "No. Observations:  283      Method:              REML       \n",
      "No. Groups:        155      Scale:               429378.5852\n",
      "Min. group size:   1        Likelihood:          -2278.9563 \n",
      "Max. group size:   2        Converged:           Yes        \n",
      "Mean group size:   1.8                                      \n",
      "------------------------------------------------------------\n",
      "            Coef.    Std.Err.   z    P>|z|  [0.025   0.975] \n",
      "------------------------------------------------------------\n",
      "Intercept   1805.051  365.610  4.937 0.000 1088.468 2521.633\n",
      "BMXBMI        -2.985    6.857 -0.435 0.663  -16.424   10.454\n",
      "PAD680         0.047    0.367  0.129 0.898   -0.672    0.767\n",
      "RIDAGEYR       4.738    8.810  0.538 0.591  -12.529   22.006\n",
      "diabetes     357.817  311.786  1.148 0.251 -253.273  968.906\n",
      "Group Var 293000.409  135.495                               \n",
      "============================================================\n",
      "\n"
     ]
    }
   ],
   "source": [
    "# LMM model\n",
    "mixed = smf.mixedlm(\"y ~ BMXBMI + PAD680 + RIDAGEYR + diabetes\", final, groups = final[\"SEQN\"])\n",
    "mixed_fit = mixed.fit()\n",
    "#print the summary\n",
    "print(mixed_fit.summary())"
   ]
  },
  {
   "cell_type": "code",
   "execution_count": 110,
   "metadata": {},
   "outputs": [
    {
     "data": {
      "text/plain": [
       "{83752.0: Group    714.014326\n",
       " dtype: float64, 83781.0: Group    218.054765\n",
       " dtype: float64, 83857.0: Group    136.60615\n",
       " dtype: float64, 83959.0: Group   -550.314443\n",
       " dtype: float64, 84033.0: Group   -79.760159\n",
       " dtype: float64, 84073.0: Group    562.812273\n",
       " dtype: float64, 84130.0: Group   -355.544879\n",
       " dtype: float64, 84187.0: Group   -210.096806\n",
       " dtype: float64, 84192.0: Group   -344.604582\n",
       " dtype: float64, 84412.0: Group    8.118748\n",
       " dtype: float64, 84440.0: Group   -381.40279\n",
       " dtype: float64, 84547.0: Group   -155.45698\n",
       " dtype: float64, 84587.0: Group    194.945027\n",
       " dtype: float64, 84716.0: Group    96.785213\n",
       " dtype: float64, 84766.0: Group   -152.005506\n",
       " dtype: float64, 84797.0: Group    1511.578945\n",
       " dtype: float64, 84816.0: Group   -0.664801\n",
       " dtype: float64, 84825.0: Group    89.080769\n",
       " dtype: float64, 84937.0: Group    161.108954\n",
       " dtype: float64, 85040.0: Group   -93.508833\n",
       " dtype: float64, 85055.0: Group    349.567852\n",
       " dtype: float64, 85132.0: Group   -305.468962\n",
       " dtype: float64, 85160.0: Group    39.245748\n",
       " dtype: float64, 85222.0: Group    236.712323\n",
       " dtype: float64, 85309.0: Group    248.162962\n",
       " dtype: float64, 85343.0: Group   -509.875522\n",
       " dtype: float64, 85515.0: Group   -469.712628\n",
       " dtype: float64, 85659.0: Group    1138.40668\n",
       " dtype: float64, 85676.0: Group    678.179722\n",
       " dtype: float64, 85696.0: Group   -717.05304\n",
       " dtype: float64, 85787.0: Group    575.344502\n",
       " dtype: float64, 85915.0: Group   -583.993194\n",
       " dtype: float64, 85936.0: Group   -492.497505\n",
       " dtype: float64, 85948.0: Group   -167.173206\n",
       " dtype: float64, 86022.0: Group   -264.348461\n",
       " dtype: float64, 86029.0: Group   -54.685422\n",
       " dtype: float64, 86189.0: Group    683.036407\n",
       " dtype: float64, 86262.0: Group    278.254524\n",
       " dtype: float64, 86322.0: Group   -204.938091\n",
       " dtype: float64, 86461.0: Group    312.717254\n",
       " dtype: float64, 86490.0: Group   -377.055662\n",
       " dtype: float64, 86528.0: Group   -345.910279\n",
       " dtype: float64, 86600.0: Group    156.838753\n",
       " dtype: float64, 86611.0: Group   -81.519336\n",
       " dtype: float64, 86632.0: Group    636.09565\n",
       " dtype: float64, 86761.0: Group    13.277571\n",
       " dtype: float64, 86968.0: Group    44.50787\n",
       " dtype: float64, 86981.0: Group   -30.553453\n",
       " dtype: float64, 87005.0: Group    176.754849\n",
       " dtype: float64, 87046.0: Group    197.183121\n",
       " dtype: float64, 87066.0: Group    718.380519\n",
       " dtype: float64, 87130.0: Group    262.78048\n",
       " dtype: float64, 87171.0: Group   -365.31923\n",
       " dtype: float64, 87200.0: Group    311.313816\n",
       " dtype: float64, 87243.0: Group   -359.342715\n",
       " dtype: float64, 87346.0: Group   -572.494736\n",
       " dtype: float64, 87423.0: Group   -550.337855\n",
       " dtype: float64, 87427.0: Group    107.663298\n",
       " dtype: float64, 87473.0: Group   -44.58847\n",
       " dtype: float64, 87501.0: Group    414.740938\n",
       " dtype: float64, 87520.0: Group   -73.164355\n",
       " dtype: float64, 87636.0: Group   -194.083515\n",
       " dtype: float64, 87802.0: Group   -92.607756\n",
       " dtype: float64, 87808.0: Group   -146.476724\n",
       " dtype: float64, 87845.0: Group   -373.510281\n",
       " dtype: float64, 87892.0: Group    489.839415\n",
       " dtype: float64, 87895.0: Group   -390.494126\n",
       " dtype: float64, 87942.0: Group   -392.209017\n",
       " dtype: float64, 88072.0: Group   -394.701329\n",
       " dtype: float64, 88082.0: Group    336.74161\n",
       " dtype: float64, 88147.0: Group   -416.693601\n",
       " dtype: float64, 88205.0: Group   -64.438246\n",
       " dtype: float64, 88333.0: Group   -181.612475\n",
       " dtype: float64, 88412.0: Group    381.73585\n",
       " dtype: float64, 88440.0: Group    389.22565\n",
       " dtype: float64, 88451.0: Group    339.779095\n",
       " dtype: float64, 88504.0: Group    442.186858\n",
       " dtype: float64, 88507.0: Group   -673.367181\n",
       " dtype: float64, 88540.0: Group    605.596895\n",
       " dtype: float64, 88570.0: Group   -403.536666\n",
       " dtype: float64, 88583.0: Group   -438.528456\n",
       " dtype: float64, 88632.0: Group    75.008079\n",
       " dtype: float64, 88674.0: Group   -586.50933\n",
       " dtype: float64, 88707.0: Group   -558.201297\n",
       " dtype: float64, 88720.0: Group    87.970199\n",
       " dtype: float64, 88786.0: Group   -249.136366\n",
       " dtype: float64, 88868.0: Group    281.690192\n",
       " dtype: float64, 88892.0: Group   -88.3253\n",
       " dtype: float64, 88970.0: Group   -47.402054\n",
       " dtype: float64, 89160.0: Group   -448.346747\n",
       " dtype: float64, 89233.0: Group    42.706284\n",
       " dtype: float64, 89362.0: Group    348.886368\n",
       " dtype: float64, 89453.0: Group   -31.18674\n",
       " dtype: float64, 89474.0: Group   -336.343452\n",
       " dtype: float64, 89659.0: Group   -83.884884\n",
       " dtype: float64, 89823.0: Group   -347.228356\n",
       " dtype: float64, 89833.0: Group   -237.332797\n",
       " dtype: float64, 89854.0: Group    561.270842\n",
       " dtype: float64, 89929.0: Group   -133.058818\n",
       " dtype: float64, 89980.0: Group    310.033335\n",
       " dtype: float64, 90020.0: Group    404.522018\n",
       " dtype: float64, 90074.0: Group   -58.219194\n",
       " dtype: float64, 90189.0: Group   -97.953465\n",
       " dtype: float64, 90398.0: Group   -164.116793\n",
       " dtype: float64, 90461.0: Group   -34.15224\n",
       " dtype: float64, 90463.0: Group   -5.077516\n",
       " dtype: float64, 90494.0: Group   -114.910465\n",
       " dtype: float64, 90516.0: Group    384.055122\n",
       " dtype: float64, 90547.0: Group   -568.2198\n",
       " dtype: float64, 90573.0: Group    488.537931\n",
       " dtype: float64, 90627.0: Group   -753.197529\n",
       " dtype: float64, 90804.0: Group    321.643389\n",
       " dtype: float64, 90966.0: Group    219.392462\n",
       " dtype: float64, 90994.0: Group   -60.076761\n",
       " dtype: float64, 91078.0: Group   -670.218994\n",
       " dtype: float64, 91091.0: Group    82.73983\n",
       " dtype: float64, 91101.0: Group    107.132758\n",
       " dtype: float64, 91113.0: Group    1000.538565\n",
       " dtype: float64, 91139.0: Group    276.856001\n",
       " dtype: float64, 91204.0: Group    532.575261\n",
       " dtype: float64, 91249.0: Group   -192.087851\n",
       " dtype: float64, 91324.0: Group    99.021472\n",
       " dtype: float64, 91336.0: Group   -235.33189\n",
       " dtype: float64, 91358.0: Group   -175.056167\n",
       " dtype: float64, 91724.0: Group   -495.84074\n",
       " dtype: float64, 91826.0: Group    556.551694\n",
       " dtype: float64, 91835.0: Group   -332.41481\n",
       " dtype: float64, 91893.0: Group   -443.260514\n",
       " dtype: float64, 91916.0: Group   -578.614068\n",
       " dtype: float64, 91922.0: Group   -135.215927\n",
       " dtype: float64, 91993.0: Group    382.422285\n",
       " dtype: float64, 91997.0: Group   -88.97439\n",
       " dtype: float64, 91999.0: Group    284.130785\n",
       " dtype: float64, 92190.0: Group   -561.968772\n",
       " dtype: float64, 92225.0: Group    141.469799\n",
       " dtype: float64, 92300.0: Group   -182.623942\n",
       " dtype: float64, 92423.0: Group    216.453842\n",
       " dtype: float64, 92428.0: Group    686.550434\n",
       " dtype: float64, 92478.0: Group    216.045579\n",
       " dtype: float64, 92506.0: Group   -630.770357\n",
       " dtype: float64, 92545.0: Group   -96.402139\n",
       " dtype: float64, 92551.0: Group    640.640992\n",
       " dtype: float64, 92657.0: Group    19.039244\n",
       " dtype: float64, 92761.0: Group   -73.781813\n",
       " dtype: float64, 92767.0: Group    64.327762\n",
       " dtype: float64, 93123.0: Group    414.336505\n",
       " dtype: float64, 93213.0: Group   -162.775118\n",
       " dtype: float64, 93222.0: Group    212.973539\n",
       " dtype: float64, 93305.0: Group   -2.255547\n",
       " dtype: float64, 93392.0: Group   -269.232823\n",
       " dtype: float64, 93483.0: Group    422.638117\n",
       " dtype: float64, 93524.0: Group    257.480725\n",
       " dtype: float64, 93600.0: Group   -258.58231\n",
       " dtype: float64, 93606.0: Group   -511.249068\n",
       " dtype: float64, 93665.0: Group   -241.828374\n",
       " dtype: float64}"
      ]
     },
     "execution_count": 110,
     "metadata": {},
     "output_type": "execute_result"
    }
   ],
   "source": [
    "mixed_fit.random_effects"
   ]
  },
  {
   "cell_type": "code",
   "execution_count": null,
   "metadata": {},
   "outputs": [],
   "source": []
  }
 ],
 "metadata": {
  "kernelspec": {
   "display_name": "Python 3",
   "language": "python",
   "name": "python3"
  },
  "language_info": {
   "codemirror_mode": {
    "name": "ipython",
    "version": 3
   },
   "file_extension": ".py",
   "mimetype": "text/x-python",
   "name": "python",
   "nbconvert_exporter": "python",
   "pygments_lexer": "ipython3",
   "version": "3.7.3"
  }
 },
 "nbformat": 4,
 "nbformat_minor": 2
}
